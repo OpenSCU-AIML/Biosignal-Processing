{
 "cells": [
  {
   "cell_type": "code",
   "execution_count": 2,
   "metadata": {},
   "outputs": [
    {
     "name": "stdout",
     "output_type": "stream",
     "text": [
      "\u001b[33mWarning:\u001b[0m tcl-tk 8.6.14 is already installed and up-to-date.\n",
      "To reinstall 8.6.14, run:\n",
      "  brew reinstall tcl-tk\n"
     ]
    }
   ],
   "source": [
    "# get tkinter\n",
    "!brew install tcl-tk"
   ]
  },
  {
   "cell_type": "code",
   "execution_count": 1,
   "metadata": {},
   "outputs": [],
   "source": [
    "import tkinter\n",
    "import _tkinter\n",
    "tkinter._test()"
   ]
  },
  {
   "cell_type": "code",
   "execution_count": 3,
   "metadata": {},
   "outputs": [],
   "source": [
    "from libemg.datasets import OneSubjectMyoDataset\n",
    "from libemg.emg_classifier import EMGClassifier\n",
    "from libemg.feature_extractor import FeatureExtractor\n",
    "from libemg.offline_metrics import OfflineMetrics\n",
    "import matplotlib.pyplot as plt\n"
   ]
  },
  {
   "cell_type": "code",
   "execution_count": null,
   "metadata": {},
   "outputs": [],
   "source": [
    "WINDOW_SIZE = 20\n",
    "WINDOW_INCREMENT = 10\n",
    "FEATURE_SET = \"HTD\""
   ]
  }
 ],
 "metadata": {
  "kernelspec": {
   "display_name": ".venv",
   "language": "python",
   "name": "python3"
  },
  "language_info": {
   "codemirror_mode": {
    "name": "ipython",
    "version": 3
   },
   "file_extension": ".py",
   "mimetype": "text/x-python",
   "name": "python",
   "nbconvert_exporter": "python",
   "pygments_lexer": "ipython3",
   "version": "3.12.4"
  }
 },
 "nbformat": 4,
 "nbformat_minor": 2
}

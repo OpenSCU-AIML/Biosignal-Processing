{
 "cells": [
  {
   "cell_type": "code",
   "execution_count": 388,
   "metadata": {},
   "outputs": [],
   "source": [
    "import os\n",
    "import pandas as pd\n",
    "\n",
    "\n"
   ]
  },
  {
   "cell_type": "code",
   "execution_count": 389,
   "metadata": {},
   "outputs": [],
   "source": [
    "import pandas as pd\n",
    "class SenConfig:\n",
    "  def __init__(self,fpath, names, chans, samples=None, nsen=None):\n",
    "    self.fpath = fpath\n",
    "    self.names = names\n",
    "    self.chans = chans\n",
    "    self.samples = samples\n",
    "    self.nsen = nsen\n",
    "  def countSens(self):\n",
    "    \n",
    "\n",
    "  \n",
    "  "
   ]
  },
  {
   "cell_type": "code",
   "execution_count": 390,
   "metadata": {},
   "outputs": [],
   "source": [
    "class TMetadata:\n",
    "  def __init__(self, fpath, app=None, datetime=None, duration=None):\n",
    "    self.fpath = fpath\n",
    "    headdf = pd.read_csv(self.fpath, usecols=[0,1], header=None)\n",
    "    headdata = headdf.loc[0:6,0:4].T.astype(\"string\")\n",
    "    temp = [i for i in headdata.loc[1,0:2]]\n",
    "    self.app = temp[0]\n",
    "    self.datetime = temp[1]\n",
    "    self.duration = temp[2]"
   ]
  },
  {
   "cell_type": "code",
   "execution_count": 436,
   "metadata": {},
   "outputs": [],
   "source": [
    "class DelsysSensor:\n",
    "    def __init__(self, fpath, rcol, name=None, chans=[], mode=None):\n",
    "      self.fpath = fpath\n",
    "      self.rcol = rcol\n",
    "      self.name = name\n",
    "      self.chans = chans\n",
    "      self.mode = mode\n",
    "    def getName(self):\n",
    "        sensordf = pd.read_csv(self.fpath, usecols=rcol[0], skiprows=3, header=None, keep_default_na=False)\n",
    "        sendata = sensordf.astype(\"string\").T\n",
    "        self.name = sendata.loc[0,0]\n",
    "        self.mode = sendata.loc[0,1]\n",
    "        print(sendata)\n"
   ]
  },
  {
   "cell_type": "code",
   "execution_count": 392,
   "metadata": {},
   "outputs": [],
   "source": [
    "class Trial:\n",
    "    def __init__(self, title, fpath, metadata=None, sensors=None):\n",
    "        self.title = title\n",
    "        self.fpath = fpath\n",
    "        self.meta = self.getMeta()\n",
    "        self.sensors = self.getSensors()\n",
    "    def getSensors(self):\n",
    "        self.getNames(self)\n",
    "        sensorinfo={\n",
    "            \"name\":[i for i in temp[\"name\"]], \n",
    "            \"sensor_mode\":[i.split(':')[1] for i in temp[\"sensor_mode\"]],\n",
    "        }\n",
    "    def getMeta(self):\n",
    "        return TMetadata(self.fpath)"
   ]
  },
  {
   "cell_type": "code",
   "execution_count": 397,
   "metadata": {},
   "outputs": [],
   "source": [
    "class Dataset:\n",
    "    def __init__(self, path, options=[], setName=None, trials=[]):\n",
    "        self.path = path\n",
    "        self.options = [i for i in os.listdir(self.path) if i.find(\".\") == -1]\n",
    "        self.setName = self.selectDataset(setName)\n",
    "        self.trials = trials\n",
    "        \n",
    "    def selectDataset(self, setname):\n",
    "        menu = \"\\n\".join([f\"{i[0]} | {i[1]}\" for i in enumerate(self.options)])\n",
    "        if (setname==None):\n",
    "            setIndex = int(input(menu))\n",
    "            sel = (self.options[setIndex],f'{self.path}/{self.options[setIndex]}')\n",
    "            tr = [(i, f\"{sel[1]}/{i}\") for i in os.listdir(sel[1]) if i.find(\".csv\")]\n",
    "        elif (self.options.find(setname)):\n",
    "            sel = (sel,f'{self.path}/{sel}')\n",
    "            tr = [(i, f\"{sel[1]}/{i}\") for i in os.listdir(sel[1]) if i.find(\".csv\")]\n",
    "        else:\n",
    "            sel = None\n",
    "            tr = None\n",
    "        self.selected = sel\n",
    "        self.trials = tr\n",
    "        print(f\"Selected {self.selected[0]} ({len(self.trials)} trials)\")\n",
    "\n",
    "    def selectTrial(self, name):\n",
    "        menu = \"\\n\".join([f\"{i[0]} | {i[1]}\" for i in enumerate(self.trials)])\n",
    "        if (name==None):\n",
    "            setIndex = int(input(menu))\n",
    "            tr = self.trials[setIndex]\n",
    "        elif (self.trials[0].find(\".csv\")):\n",
    "            tr = self.trials[0]==\n",
    "        else:\n",
    "\n",
    "        return Trial(self.selected[0],self.trials[setIndex][1])\n",
    "         "
   ]
  },
  {
   "cell_type": "code",
   "execution_count": 398,
   "metadata": {},
   "outputs": [
    {
     "data": {
      "text/plain": [
       "['henry_data', 'naruto']"
      ]
     },
     "execution_count": 398,
     "metadata": {},
     "output_type": "execute_result"
    }
   ],
   "source": [
    "import os\n",
    "p = os.getcwd()\n",
    "[i for i in os.listdir(p) if i.find(\".\") == -1]"
   ]
  },
  {
   "cell_type": "code",
   "execution_count": 399,
   "metadata": {},
   "outputs": [
    {
     "name": "stdout",
     "output_type": "stream",
     "text": [
      "Selected naruto (12 trials)\n"
     ]
    }
   ],
   "source": [
    "ds = Dataset(os.getcwd())\n",
    "ds.selectDataset()\n",
    "# ldirs = enumerate(dirs)\n",
    "# print(\"\\n\".join([f\"{i[0]} | {i[1]}\" for i in enumerate(dirs)]))"
   ]
  },
  {
   "cell_type": "code",
   "execution_count": 294,
   "metadata": {},
   "outputs": [],
   "source": [
    "data = ds.selectTrial()"
   ]
  },
  {
   "cell_type": "code",
   "execution_count": 401,
   "metadata": {},
   "outputs": [
    {
     "data": {
      "text/plain": [
       "'/Users/saichi/Documents/GitHub/Biosignal-Processing/datasets/naruto/1_Rat.csv'"
      ]
     },
     "execution_count": 401,
     "metadata": {},
     "output_type": "execute_result"
    }
   ],
   "source": [
    "data.fpath"
   ]
  },
  {
   "cell_type": "code",
   "execution_count": 437,
   "metadata": {},
   "outputs": [
    {
     "name": "stderr",
     "output_type": "stream",
     "text": [
      "/var/folders/tf/ny50dn9x7tz8mlg6fxcxw6s00000gn/T/ipykernel_80279/2692008645.py:3: DtypeWarning: Columns (0,1,2,3,4,5,6,7,8,9,10,11,12,13,14,15,16,17,18,19,20,21,22,23,24,25,26,27,28,29,30,31,32,33,34,35,36,37,38,39) have mixed types. Specify dtype option on import or set low_memory=False.\n",
      "  df = pd.read_csv(trials[0][1], skiprows=5, header=None, keep_default_na=False)\n",
      "/var/folders/tf/ny50dn9x7tz8mlg6fxcxw6s00000gn/T/ipykernel_80279/2692008645.py:14: DtypeWarning: Columns (0,8,16,24,32,34,36,38) have mixed types. Specify dtype option on import or set low_memory=False.\n",
      "  sensordf = pd.read_csv(trials[0][1], usecols=cols, skiprows=3, header=None, keep_default_na=False)\n"
     ]
    },
    {
     "ename": "KeyError",
     "evalue": "1",
     "output_type": "error",
     "traceback": [
      "\u001b[0;31m---------------------------------------------------------------------------\u001b[0m",
      "\u001b[0;31mKeyError\u001b[0m                                  Traceback (most recent call last)",
      "File \u001b[0;32m~/Documents/GitHub/Biosignal-Processing/emg-analysis/.venv/lib/python3.12/site-packages/pandas/core/indexes/base.py:3805\u001b[0m, in \u001b[0;36mIndex.get_loc\u001b[0;34m(self, key)\u001b[0m\n\u001b[1;32m   3804\u001b[0m \u001b[38;5;28;01mtry\u001b[39;00m:\n\u001b[0;32m-> 3805\u001b[0m     \u001b[38;5;28;01mreturn\u001b[39;00m \u001b[38;5;28;43mself\u001b[39;49m\u001b[38;5;241;43m.\u001b[39;49m\u001b[43m_engine\u001b[49m\u001b[38;5;241;43m.\u001b[39;49m\u001b[43mget_loc\u001b[49m\u001b[43m(\u001b[49m\u001b[43mcasted_key\u001b[49m\u001b[43m)\u001b[49m\n\u001b[1;32m   3806\u001b[0m \u001b[38;5;28;01mexcept\u001b[39;00m \u001b[38;5;167;01mKeyError\u001b[39;00m \u001b[38;5;28;01mas\u001b[39;00m err:\n",
      "File \u001b[0;32mindex.pyx:167\u001b[0m, in \u001b[0;36mpandas._libs.index.IndexEngine.get_loc\u001b[0;34m()\u001b[0m\n",
      "File \u001b[0;32mindex.pyx:196\u001b[0m, in \u001b[0;36mpandas._libs.index.IndexEngine.get_loc\u001b[0;34m()\u001b[0m\n",
      "File \u001b[0;32mpandas/_libs/hashtable_class_helper.pxi:2606\u001b[0m, in \u001b[0;36mpandas._libs.hashtable.Int64HashTable.get_item\u001b[0;34m()\u001b[0m\n",
      "File \u001b[0;32mpandas/_libs/hashtable_class_helper.pxi:2630\u001b[0m, in \u001b[0;36mpandas._libs.hashtable.Int64HashTable.get_item\u001b[0;34m()\u001b[0m\n",
      "\u001b[0;31mKeyError\u001b[0m: 1",
      "\nThe above exception was the direct cause of the following exception:\n",
      "\u001b[0;31mKeyError\u001b[0m                                  Traceback (most recent call last)",
      "Cell \u001b[0;32mIn[437], line 18\u001b[0m\n\u001b[1;32m     16\u001b[0m temp\u001b[38;5;241m=\u001b[39msendata\u001b[38;5;241m.\u001b[39mloc[:,\u001b[38;5;241m0\u001b[39m]\n\u001b[1;32m     17\u001b[0m \u001b[38;5;28;01mfor\u001b[39;00m n \u001b[38;5;129;01min\u001b[39;00m \u001b[38;5;28mrange\u001b[39m(nchan):\n\u001b[0;32m---> 18\u001b[0m     sensors\u001b[38;5;241m.\u001b[39mappend(DelsysSensor(trials[\u001b[38;5;241m0\u001b[39m][\u001b[38;5;241m1\u001b[39m], cols[n],\u001b[43msendata\u001b[49m\u001b[38;5;241;43m.\u001b[39;49m\u001b[43mloc\u001b[49m\u001b[43m[\u001b[49m\u001b[43mn\u001b[49m\u001b[43m,\u001b[49m\u001b[38;5;241;43m0\u001b[39;49m\u001b[43m]\u001b[49m,sendata\u001b[38;5;241m.\u001b[39mloc[n,\u001b[38;5;241m1\u001b[39m]))\n\u001b[1;32m     19\u001b[0m \u001b[38;5;28mprint\u001b[39m(sensors[\u001b[38;5;241m0\u001b[39m]\u001b[38;5;241m.\u001b[39mname)\n\u001b[1;32m     21\u001b[0m temp\n",
      "File \u001b[0;32m~/Documents/GitHub/Biosignal-Processing/emg-analysis/.venv/lib/python3.12/site-packages/pandas/core/indexing.py:1183\u001b[0m, in \u001b[0;36m_LocationIndexer.__getitem__\u001b[0;34m(self, key)\u001b[0m\n\u001b[1;32m   1181\u001b[0m     key \u001b[38;5;241m=\u001b[39m \u001b[38;5;28mtuple\u001b[39m(com\u001b[38;5;241m.\u001b[39mapply_if_callable(x, \u001b[38;5;28mself\u001b[39m\u001b[38;5;241m.\u001b[39mobj) \u001b[38;5;28;01mfor\u001b[39;00m x \u001b[38;5;129;01min\u001b[39;00m key)\n\u001b[1;32m   1182\u001b[0m     \u001b[38;5;28;01mif\u001b[39;00m \u001b[38;5;28mself\u001b[39m\u001b[38;5;241m.\u001b[39m_is_scalar_access(key):\n\u001b[0;32m-> 1183\u001b[0m         \u001b[38;5;28;01mreturn\u001b[39;00m \u001b[38;5;28;43mself\u001b[39;49m\u001b[38;5;241;43m.\u001b[39;49m\u001b[43mobj\u001b[49m\u001b[38;5;241;43m.\u001b[39;49m\u001b[43m_get_value\u001b[49m\u001b[43m(\u001b[49m\u001b[38;5;241;43m*\u001b[39;49m\u001b[43mkey\u001b[49m\u001b[43m,\u001b[49m\u001b[43m \u001b[49m\u001b[43mtakeable\u001b[49m\u001b[38;5;241;43m=\u001b[39;49m\u001b[38;5;28;43mself\u001b[39;49m\u001b[38;5;241;43m.\u001b[39;49m\u001b[43m_takeable\u001b[49m\u001b[43m)\u001b[49m\n\u001b[1;32m   1184\u001b[0m     \u001b[38;5;28;01mreturn\u001b[39;00m \u001b[38;5;28mself\u001b[39m\u001b[38;5;241m.\u001b[39m_getitem_tuple(key)\n\u001b[1;32m   1185\u001b[0m \u001b[38;5;28;01melse\u001b[39;00m:\n\u001b[1;32m   1186\u001b[0m     \u001b[38;5;66;03m# we by definition only have the 0th axis\u001b[39;00m\n",
      "File \u001b[0;32m~/Documents/GitHub/Biosignal-Processing/emg-analysis/.venv/lib/python3.12/site-packages/pandas/core/frame.py:4221\u001b[0m, in \u001b[0;36mDataFrame._get_value\u001b[0;34m(self, index, col, takeable)\u001b[0m\n\u001b[1;32m   4215\u001b[0m engine \u001b[38;5;241m=\u001b[39m \u001b[38;5;28mself\u001b[39m\u001b[38;5;241m.\u001b[39mindex\u001b[38;5;241m.\u001b[39m_engine\n\u001b[1;32m   4217\u001b[0m \u001b[38;5;28;01mif\u001b[39;00m \u001b[38;5;129;01mnot\u001b[39;00m \u001b[38;5;28misinstance\u001b[39m(\u001b[38;5;28mself\u001b[39m\u001b[38;5;241m.\u001b[39mindex, MultiIndex):\n\u001b[1;32m   4218\u001b[0m     \u001b[38;5;66;03m# CategoricalIndex: Trying to use the engine fastpath may give incorrect\u001b[39;00m\n\u001b[1;32m   4219\u001b[0m     \u001b[38;5;66;03m#  results if our categories are integers that dont match our codes\u001b[39;00m\n\u001b[1;32m   4220\u001b[0m     \u001b[38;5;66;03m# IntervalIndex: IntervalTree has no get_loc\u001b[39;00m\n\u001b[0;32m-> 4221\u001b[0m     row \u001b[38;5;241m=\u001b[39m \u001b[38;5;28;43mself\u001b[39;49m\u001b[38;5;241;43m.\u001b[39;49m\u001b[43mindex\u001b[49m\u001b[38;5;241;43m.\u001b[39;49m\u001b[43mget_loc\u001b[49m\u001b[43m(\u001b[49m\u001b[43mindex\u001b[49m\u001b[43m)\u001b[49m\n\u001b[1;32m   4222\u001b[0m     \u001b[38;5;28;01mreturn\u001b[39;00m series\u001b[38;5;241m.\u001b[39m_values[row]\n\u001b[1;32m   4224\u001b[0m \u001b[38;5;66;03m# For MultiIndex going through engine effectively restricts us to\u001b[39;00m\n\u001b[1;32m   4225\u001b[0m \u001b[38;5;66;03m#  same-length tuples; see test_get_set_value_no_partial_indexing\u001b[39;00m\n",
      "File \u001b[0;32m~/Documents/GitHub/Biosignal-Processing/emg-analysis/.venv/lib/python3.12/site-packages/pandas/core/indexes/base.py:3812\u001b[0m, in \u001b[0;36mIndex.get_loc\u001b[0;34m(self, key)\u001b[0m\n\u001b[1;32m   3807\u001b[0m     \u001b[38;5;28;01mif\u001b[39;00m \u001b[38;5;28misinstance\u001b[39m(casted_key, \u001b[38;5;28mslice\u001b[39m) \u001b[38;5;129;01mor\u001b[39;00m (\n\u001b[1;32m   3808\u001b[0m         \u001b[38;5;28misinstance\u001b[39m(casted_key, abc\u001b[38;5;241m.\u001b[39mIterable)\n\u001b[1;32m   3809\u001b[0m         \u001b[38;5;129;01mand\u001b[39;00m \u001b[38;5;28many\u001b[39m(\u001b[38;5;28misinstance\u001b[39m(x, \u001b[38;5;28mslice\u001b[39m) \u001b[38;5;28;01mfor\u001b[39;00m x \u001b[38;5;129;01min\u001b[39;00m casted_key)\n\u001b[1;32m   3810\u001b[0m     ):\n\u001b[1;32m   3811\u001b[0m         \u001b[38;5;28;01mraise\u001b[39;00m InvalidIndexError(key)\n\u001b[0;32m-> 3812\u001b[0m     \u001b[38;5;28;01mraise\u001b[39;00m \u001b[38;5;167;01mKeyError\u001b[39;00m(key) \u001b[38;5;28;01mfrom\u001b[39;00m \u001b[38;5;21;01merr\u001b[39;00m\n\u001b[1;32m   3813\u001b[0m \u001b[38;5;28;01mexcept\u001b[39;00m \u001b[38;5;167;01mTypeError\u001b[39;00m:\n\u001b[1;32m   3814\u001b[0m     \u001b[38;5;66;03m# If we have a listlike key, _check_indexing_error will raise\u001b[39;00m\n\u001b[1;32m   3815\u001b[0m     \u001b[38;5;66;03m#  InvalidIndexError. Otherwise we fall through and re-raise\u001b[39;00m\n\u001b[1;32m   3816\u001b[0m     \u001b[38;5;66;03m#  the TypeError.\u001b[39;00m\n\u001b[1;32m   3817\u001b[0m     \u001b[38;5;28mself\u001b[39m\u001b[38;5;241m.\u001b[39m_check_indexing_error(key)\n",
      "\u001b[0;31mKeyError\u001b[0m: 1"
     ]
    }
   ],
   "source": [
    "# headdf = pd.read_csv(trials[0][1], usecols=[0,1], header=None)\n",
    "# headdf.loc[0:10,0:10]\n",
    "df = pd.read_csv(trials[0][1], skiprows=5, header=None, keep_default_na=False)\n",
    "dd = df.loc[0,0::2].astype('string')\n",
    "cols=[]\n",
    "typ=[]\n",
    "for i,j in enumerate(dd):\n",
    "    if int(j.strip().split(' ')[1])==1:\n",
    "        cols.append(i*2)\n",
    "        typ.append(j.strip().split(' ')[0])\n",
    "nchan=len(cols)\n",
    "sensors = []\n",
    "\n",
    "sensordf = pd.read_csv(trials[0][1], usecols=cols, skiprows=3, header=None, keep_default_na=False)\n",
    "sendata = sensordf.astype(\"string\").T\n",
    "temp=sendata.loc[:,0]\n",
    "for n in range(nchan):\n",
    "    sensors.append(DelsysSensor(trials[0][1], cols[n],sendata.loc[n,0],sendata.loc[n,1]))\n",
    "print(sensors[0].name)\n",
    "\n",
    "sensors[0]\n",
    "# for i in range(len(dd)):\n",
    "#     if i\n",
    "\n",
    "\n",
    "    # if int(i.strip().split(' ')[1])==1:\n",
    "    #     nu.append(i)\n",
    "\n",
    "# names = [f'{i}' for i in nu if int(i)==1]\n",
    "# names\n",
    "\n",
    "#     if "
   ]
  },
  {
   "cell_type": "code",
   "execution_count": 301,
   "metadata": {},
   "outputs": [],
   "source": [
    "import pandas as pd\n",
    "class SenConfig:\n",
    "  def __init__(self, names=None, samples=None, chans=None):\n",
    "    self.names = names\n",
    "    self.samples = samples\n",
    "    self.chans = chans\n",
    "class TMetadata:\n",
    "  def __init__(self, fpath, app=None, datetime=None, duration=None,config=None):\n",
    "    self.fpath = fpath\n",
    "    headdf = pd.read_csv(self.fpath, usecols=[0,1], header=None)\n",
    "    headdata = headdf.loc[0:6,0:4].T.astype(\"string\")\n",
    "    temp = [for i in headdata.loc[1,0:2]]\n",
    "    self.app = temp[0]\n",
    "    self.datetime = temp[1]\n",
    "    self.duration = temp[2]\n",
    "    self.config = SenConfig()\n",
    "\n"
   ]
  },
  {
   "cell_type": "code",
   "execution_count": null,
   "metadata": {},
   "outputs": [],
   "source": [
    "  def getNames(self):\n",
    "    sensordf = pd.read_csv(trials[0][1], usecols=cols, skiprows=3, header=None, keep_default_na=False)\n",
    "    sendata = sensordf.astype(\"string\").T\n",
    "    temp=sendata.loc[:,0:1]\n",
    "    temp.columns = [\"name\", \"sensor_mode\"]\n",
    "    temp"
   ]
  },
  {
   "cell_type": "code",
   "execution_count": 360,
   "metadata": {},
   "outputs": [
    {
     "data": {
      "text/plain": [
       "'/Users/saichi/Documents/GitHub/Biosignal-Processing/datasets/naruto/1_Rat.csv'"
      ]
     },
     "execution_count": 360,
     "metadata": {},
     "output_type": "execute_result"
    }
   ],
   "source": [
    "data.fpath"
   ]
  },
  {
   "cell_type": "code",
   "execution_count": 302,
   "metadata": {},
   "outputs": [],
   "source": [
    "meta = TMetadata(data.fpath)"
   ]
  },
  {
   "cell_type": "code",
   "execution_count": 303,
   "metadata": {},
   "outputs": [
    {
     "data": {
      "text/plain": [
       "' 64.989'"
      ]
     },
     "execution_count": 303,
     "metadata": {},
     "output_type": "execute_result"
    }
   ],
   "source": []
  },
  {
   "cell_type": "code",
   "execution_count": 173,
   "metadata": {},
   "outputs": [
    {
     "name": "stdout",
     "output_type": "stream",
     "text": [
      "{'Application': ' Trigno Discover (1.7.0)', 'Date/Time': ' 7/20/2024 4:33:55 PM', 'Collection Length (seconds)': ' 63.9495'}\n"
     ]
    }
   ],
   "source": [
    "\n",
    "headdf = pd.read_csv(trials[0][1], usecols=[0,1], header=None)\n",
    "headdata = headdf.loc[0:6,0:4].T.astype(\"string\")\n",
    "## hardcode this later 3 line\n",
    "keys=[]\n",
    "values=[]\n",
    "for i in range(3):\n",
    "    keys.append(headdata.loc[0,i][:-1])\n",
    "    values.append(headdata.loc[1,i])\n",
    "info = {keys[i]:values[i] for i in range(len(keys))}\n",
    "    "
   ]
  },
  {
   "cell_type": "code",
   "execution_count": 206,
   "metadata": {},
   "outputs": [
    {
     "data": {
      "text/plain": [
       "{'Application': ' Trigno Discover (1.7.0)',\n",
       " 'Date/Time': ' 7/20/2024 4:33:55 PM',\n",
       " 'Collection Length (seconds)': ' 63.9495'}"
      ]
     },
     "execution_count": 206,
     "metadata": {},
     "output_type": "execute_result"
    }
   ],
   "source": [
    "info"
   ]
  },
  {
   "cell_type": "code",
   "execution_count": 329,
   "metadata": {},
   "outputs": [
    {
     "name": "stderr",
     "output_type": "stream",
     "text": [
      "/var/folders/tf/ny50dn9x7tz8mlg6fxcxw6s00000gn/T/ipykernel_80279/2572313737.py:1: DtypeWarning: Columns (0,1,2,3,4,5,6,7,8,9,10,11,12,13,14,15,16,17,18,19,20,21,22,23,24,25,26,27,28,29,30,31,32,33,34,35,36,37,38,39) have mixed types. Specify dtype option on import or set low_memory=False.\n",
      "  channeloverview = pd.read_csv(trials[0][1], skiprows=5, header=None, keep_default_na=False)\n"
     ]
    },
    {
     "data": {
      "text/plain": [
       "1      EMG 1 (mV)\n",
       "3      EMG 2 (mV)\n",
       "5      EMG 3 (mV)\n",
       "7      EMG 4 (mV)\n",
       "9      EMG 1 (mV)\n",
       "11     EMG 2 (mV)\n",
       "13     EMG 3 (mV)\n",
       "15     EMG 4 (mV)\n",
       "17     EMG 1 (mV)\n",
       "19     EMG 2 (mV)\n",
       "21     EMG 3 (mV)\n",
       "23     EMG 4 (mV)\n",
       "25     EMG 1 (mV)\n",
       "27     EMG 2 (mV)\n",
       "29     EMG 3 (mV)\n",
       "31     EMG 4 (mV)\n",
       "33     EMG 1 (mV)\n",
       "35     EMG 1 (mV)\n",
       "37     EMG 1 (mV)\n",
       "39     EMG 1 (mV)\n",
       "Name: 0, dtype: object"
      ]
     },
     "execution_count": 329,
     "metadata": {},
     "output_type": "execute_result"
    }
   ],
   "source": [
    "channeloverview = pd.read_csv(trials[0][1], skiprows=5, header=None, keep_default_na=False)\n",
    "# z = zip([a for a in channeloverview.loc[0,1::2]],\n",
    "# [t for t in channeloverview.loc[0,0::2]],[b for b in channeloverview.loc[1,1::2]])\n",
    "# chanlist = [\n",
    "#      {\"chan\":a, \"timer\":t, \"sample\":b} for a,t,b in tuple(z)]\n",
    "# print(len(chanlist),\" channels\")\n",
    "# chanlist[0]\n",
    "channeloverview.loc[0,1::2]"
   ]
  },
  {
   "cell_type": "code",
   "execution_count": null,
   "metadata": {},
   "outputs": [],
   "source": [
    "class Chan:\n",
    "    def __init__(self, name=None,ts=None, sample=None, vals=[], tvals=[]):\n",
    "        self.name = name\n",
    "        self.ts = ts\n",
    "        self.sample = sample\n",
    "        self.vals = vals\n",
    "        self.tvals = tvals\n"
   ]
  },
  {
   "cell_type": "code",
   "execution_count": null,
   "metadata": {},
   "outputs": [],
   "source": [
    "class SenConfig:\n",
    "  def __init__(self, name, sample, chans):\n",
    "    self.name = name\n",
    "    self.sample = sample"
   ]
  },
  {
   "cell_type": "code",
   "execution_count": null,
   "metadata": {},
   "outputs": [],
   "source": [
    "class DelsysSensor:\n",
    "    def __init__(self, name, config, chans):\n",
    "      self.name = name\n",
    "      self.chans = chans\n",
    "      self.config = config\n",
    "      self.sample = sample\n",
    "    "
   ]
  },
  {
   "cell_type": "code",
   "execution_count": 335,
   "metadata": {},
   "outputs": [
    {
     "name": "stdout",
     "output_type": "stream",
     "text": [
      "8  sensors\n"
     ]
    },
    {
     "data": {
      "text/plain": [
       "[(0, 8), (8, 16), (16, 24), (24, 32), (32, 34), (34, 36), (36, 38)]"
      ]
     },
     "execution_count": 335,
     "metadata": {},
     "output_type": "execute_result"
    }
   ],
   "source": [
    "## from metadata\n",
    "pm={\n",
    "    \"nGalileo\":4,\n",
    "    \"chGalileo\":4,\n",
    "    \"nAvanti\":4,\n",
    "    \"chAvanti\":1,\n",
    "    \"ts\":2\n",
    "}\n",
    "p1=pm['nGalileo']*pm['chGalileo']*pm['ts']\n",
    "cols=[i for i in range(0,p1,pm['chGalileo']*pm['ts'])]\n",
    "cols.extend([i for i in range(p1,p1+pm['nAvanti']*pm['ts'], pm['chAvanti']*pm['ts'])])\n",
    "print(len(cols),' sensors')\n",
    "rcols = [(cols[i],cols[i+1]) for i in range(len(cols)-1)]\n",
    "cols\n",
    "rcols"
   ]
  },
  {
   "cell_type": "code",
   "execution_count": 361,
   "metadata": {},
   "outputs": [
    {
     "ename": "NameError",
     "evalue": "name 'DelsysSensor' is not defined",
     "output_type": "error",
     "traceback": [
      "\u001b[0;31m---------------------------------------------------------------------------\u001b[0m",
      "\u001b[0;31mNameError\u001b[0m                                 Traceback (most recent call last)",
      "Cell \u001b[0;32mIn[361], line 1\u001b[0m\n\u001b[0;32m----> 1\u001b[0m tester \u001b[38;5;241m=\u001b[39m \u001b[43mDelsysSensor\u001b[49m(data\u001b[38;5;241m.\u001b[39mfpath,rcols[\u001b[38;5;241m0\u001b[39m])\n",
      "\u001b[0;31mNameError\u001b[0m: name 'DelsysSensor' is not defined"
     ]
    }
   ],
   "source": [
    "tester = DelsysSensor(data.fpath,rcols[0])"
   ]
  },
  {
   "cell_type": "code",
   "execution_count": null,
   "metadata": {},
   "outputs": [],
   "source": [
    "sensordf = pd.read_csv(trials[0][1], usecols=cols, skiprows=3, header=None, keep_default_na=False)\n",
    "sendata = sensordf.astype(\"string\").T\n",
    "temp=sendata.loc[:,0:1]\n",
    "temp.columns = [\"name\", \"sensor_mode\"]\n",
    "temp\n"
   ]
  },
  {
   "cell_type": "code",
   "execution_count": 341,
   "metadata": {},
   "outputs": [],
   "source": []
  },
  {
   "cell_type": "code",
   "execution_count": 342,
   "metadata": {},
   "outputs": [],
   "source": [
    "nchan=4\n",
    "chans = [Chan() for i in range(nchan)]"
   ]
  },
  {
   "cell_type": "code",
   "execution_count": 348,
   "metadata": {},
   "outputs": [
    {
     "name": "stderr",
     "output_type": "stream",
     "text": [
      "/var/folders/tf/ny50dn9x7tz8mlg6fxcxw6s00000gn/T/ipykernel_80279/1047346573.py:1: DtypeWarning: Columns (0,1,2,3,4,5,6,7,8,9,10,11,12,13,14,15,16,17,18,19,20,21,22,23,24,25,26,27,28,29,30,31,32,33,34,35,36,37,38,39) have mixed types. Specify dtype option on import or set low_memory=False.\n",
      "  channeloverview = pd.read_csv(trials[0][1], skiprows=5, header=None, keep_default_na=False)\n"
     ]
    }
   ],
   "source": [
    "\n",
    "channeloverview = pd.read_csv(trials[0][1], skiprows=5, header=None, keep_default_na=False)\n",
    "# av,bv = [t for t in channeloverview.loc[0,0::2]]\n",
    "# channeloverview.shape[1] = 40\n",
    "# chan = band*ts\n",
    "rcol=(0, 8)\n",
    "nchan=4\n",
    "def getChans(rcol,nchan,tm=2)\n",
    "    channeloverview = pd.read_csv(trials[0][1], skiprows=5, header=None, keep_default_na=False)\n",
    "\n",
    "    chans = [Chan() for i in range(nchan)]\n",
    "\n",
    "    for i in range(rcol[0],rcol[1],tm):\n",
    "        \n",
    "        chans[(i+1)//tm].ts = channeloverview.loc[0,i]\n",
    "        chans[(i+1)//tm].tval = [ts for ts in channeloverview.loc[2:,i]]\n",
    "        \n",
    "    for i in range(rcol[0]+1,rcol[1],tm):\n",
    "        chans[i//tm].name = channeloverview.loc[0,i]\n",
    "        chans[i//tm].sample = channeloverview.loc[1,i]\n",
    "        chans[i//tm].vals = [vs for vs in channeloverview.loc[2:,i]]\n",
    "    return chans\n"
   ]
  },
  {
   "cell_type": "code",
   "execution_count": 355,
   "metadata": {},
   "outputs": [
    {
     "name": "stdout",
     "output_type": "stream",
     "text": [
      "142110 142110\n"
     ]
    }
   ],
   "source": []
  },
  {
   "cell_type": "code",
   "execution_count": null,
   "metadata": {},
   "outputs": [],
   "source": [
    "class Chan:\n",
    "  def __init__(self, vals=[], ts=[]):\n",
    "    self.vals = vals\n",
    "    self.ts = ts\n",
    "\n",
    "class DelsysSensor:\n",
    "    def __init__(self, name=None, chans=[], mode=None):\n",
    "      self.name = name\n",
    "      self.chans = chans\n",
    "      self.sample = sample\n",
    "      self.mode = mode"
   ]
  },
  {
   "cell_type": "code",
   "execution_count": 259,
   "metadata": {},
   "outputs": [
    {
     "name": "stdout",
     "output_type": "stream",
     "text": [
      "8  sensors\n"
     ]
    },
    {
     "data": {
      "text/plain": [
       "[0, 8, 16, 24, 32, 34, 36, 38]"
      ]
     },
     "execution_count": 259,
     "metadata": {},
     "output_type": "execute_result"
    }
   ],
   "source": [
    "## from metadata\n",
    "pm={\n",
    "    \"nGalileo\":4,\n",
    "    \"chGalileo\":4,\n",
    "    \"nAvanti\":4,\n",
    "    \"chAvanti\":1,\n",
    "    \"ts\":2\n",
    "}\n",
    "p1=pm['nGalileo']*pm['chGalileo']*pm['ts']\n",
    "cols=[i for i in range(0,p1,pm['chGalileo']*pm['ts'])]\n",
    "cols.extend([i for i in range(p1,p1+pm['nAvanti']*pm['ts'], pm['chAvanti']*pm['ts'])])\n",
    "print(len(cols),' sensors')\n",
    "cols"
   ]
  },
  {
   "cell_type": "code",
   "execution_count": 258,
   "metadata": {},
   "outputs": [
    {
     "name": "stderr",
     "output_type": "stream",
     "text": [
      "/var/folders/tf/ny50dn9x7tz8mlg6fxcxw6s00000gn/T/ipykernel_80279/325908003.py:10: DtypeWarning: Columns (0,8,16,24,32,34,36,38) have mixed types. Specify dtype option on import or set low_memory=False.\n",
      "  sensordf = pd.read_csv(trials[0][1], usecols=cols, skiprows=3, header=None, keep_default_na=False)\n"
     ]
    },
    {
     "data": {
      "text/html": [
       "<div>\n",
       "<style scoped>\n",
       "    .dataframe tbody tr th:only-of-type {\n",
       "        vertical-align: middle;\n",
       "    }\n",
       "\n",
       "    .dataframe tbody tr th {\n",
       "        vertical-align: top;\n",
       "    }\n",
       "\n",
       "    .dataframe thead th {\n",
       "        text-align: right;\n",
       "    }\n",
       "</style>\n",
       "<table border=\"1\" class=\"dataframe\">\n",
       "  <thead>\n",
       "    <tr style=\"text-align: right;\">\n",
       "      <th></th>\n",
       "      <th>name</th>\n",
       "      <th>sensor_mode</th>\n",
       "    </tr>\n",
       "  </thead>\n",
       "  <tbody>\n",
       "    <tr>\n",
       "      <th>0</th>\n",
       "      <td>1 (77028)</td>\n",
       "      <td>sensor mode: 296</td>\n",
       "    </tr>\n",
       "    <tr>\n",
       "      <th>8</th>\n",
       "      <td>2 (77285)</td>\n",
       "      <td>sensor mode: 296</td>\n",
       "    </tr>\n",
       "    <tr>\n",
       "      <th>16</th>\n",
       "      <td>3 (77200)</td>\n",
       "      <td>sensor mode: 296</td>\n",
       "    </tr>\n",
       "    <tr>\n",
       "      <th>24</th>\n",
       "      <td>4 (77211)</td>\n",
       "      <td>sensor mode: 296</td>\n",
       "    </tr>\n",
       "    <tr>\n",
       "      <th>32</th>\n",
       "      <td>Avanti Sensor 5 (74639)</td>\n",
       "      <td>sensor mode: 40</td>\n",
       "    </tr>\n",
       "    <tr>\n",
       "      <th>34</th>\n",
       "      <td>Avanti Sensor 6 (74766)</td>\n",
       "      <td>sensor mode: 40</td>\n",
       "    </tr>\n",
       "    <tr>\n",
       "      <th>36</th>\n",
       "      <td>Avanti Sensor 7 (73997)</td>\n",
       "      <td>sensor mode: 40</td>\n",
       "    </tr>\n",
       "    <tr>\n",
       "      <th>38</th>\n",
       "      <td>Avanti Sensor 8 (74514)</td>\n",
       "      <td>sensor mode: 40</td>\n",
       "    </tr>\n",
       "  </tbody>\n",
       "</table>\n",
       "</div>"
      ],
      "text/plain": [
       "                        name        sensor_mode\n",
       "0                  1 (77028)   sensor mode: 296\n",
       "8                  2 (77285)   sensor mode: 296\n",
       "16                 3 (77200)   sensor mode: 296\n",
       "24                 4 (77211)   sensor mode: 296\n",
       "32   Avanti Sensor 5 (74639)    sensor mode: 40\n",
       "34   Avanti Sensor 6 (74766)    sensor mode: 40\n",
       "36   Avanti Sensor 7 (73997)    sensor mode: 40\n",
       "38   Avanti Sensor 8 (74514)    sensor mode: 40"
      ]
     },
     "execution_count": 258,
     "metadata": {},
     "output_type": "execute_result"
    }
   ],
   "source": [
    "sensordf = pd.read_csv(trials[0][1], usecols=cols, skiprows=3, header=None, keep_default_na=False)\n",
    "sendata = sensordf.astype(\"string\").T\n",
    "temp=sendata.loc[:,0:1]\n",
    "temp.columns = [\"name\", \"sensor_mode\"]\n",
    "temp\n"
   ]
  },
  {
   "cell_type": "code",
   "execution_count": 261,
   "metadata": {},
   "outputs": [
    {
     "ename": "SyntaxError",
     "evalue": "invalid syntax. Perhaps you forgot a comma? (3287025329.py, line 23)",
     "output_type": "error",
     "traceback": [
      "\u001b[0;36m  Cell \u001b[0;32mIn[261], line 23\u001b[0;36m\u001b[0m\n\u001b[0;31m    [name,mode,typ,nChan,chan[]]\u001b[0m\n\u001b[0m                         ^\u001b[0m\n\u001b[0;31mSyntaxError\u001b[0m\u001b[0;31m:\u001b[0m invalid syntax. Perhaps you forgot a comma?\n"
     ]
    }
   ],
   "source": [
    "\n",
    "sensorinfo={\n",
    "    \"name\":[i for i in temp[\"name\"]], \n",
    "    \"sensor_mode\":[i.split(':')[1] for i in temp[\"sensor_mode\"]],\n",
    "}\n",
    "\n",
    "\n",
    "class SenConfig:\n",
    "  def __init__(self, name, sample, chans):\n",
    "    self.name = name\n",
    "    self.sample = sample\n",
    "class TMetadata:\n",
    "  def __init__(self, fname, app, datetime, duration,config):\n",
    "    self.fname = fname\n",
    "    self.app = app\n",
    "    self.datetime = datetime\n",
    "    self.duration = duration\n",
    "    self.config = config\n",
    "class Chan:\n",
    "  def __init__(self, vals, ts):\n",
    "    self.vals = vals\n",
    "    self.ts = ts\n",
    "\n",
    "class DelsysSensor:\n",
    "    def __init__(self, name, chans):\n",
    "      self.name = name\n",
    "      self.chans = chans\n",
    "      self.sample = sample\n",
    "\n",
    "\n",
    "\n",
    "[name,mode,typ,nChan,chan[]]\n",
    "{chan.val,chan.ts}\n",
    "\n",
    "\n",
    "[{name,mode,sample,chan,timer,ts,val}]"
   ]
  },
  {
   "cell_type": "code",
   "execution_count": 205,
   "metadata": {},
   "outputs": [
    {
     "name": "stdout",
     "output_type": "stream",
     "text": [
      "[{'pair': ['EMG 1 Time Series (s)', ' EMG 1 (mV)'], 'sample': ' 2222.2222 Hz'}, {'pair': [' EMG 2 Time Series (s)', ' EMG 2 (mV)'], 'sample': ' 2222.2222 Hz'}, {'pair': [' EMG 3 Time Series (s)', ' EMG 3 (mV)'], 'sample': ' 2222.2222 Hz'}, {'pair': [' EMG 4 Time Series (s)', ' EMG 4 (mV)'], 'sample': ' 2222.2222 Hz'}, {'pair': [' EMG 1 Time Series (s)', ' EMG 1 (mV)'], 'sample': ' 2222.2222 Hz'}, {'pair': [' EMG 2 Time Series (s)', ' EMG 2 (mV)'], 'sample': ' 2222.2222 Hz'}, {'pair': [' EMG 3 Time Series (s)', ' EMG 3 (mV)'], 'sample': ' 2222.2222 Hz'}, {'pair': [' EMG 4 Time Series (s)', ' EMG 4 (mV)'], 'sample': ' 2222.2222 Hz'}, {'pair': [' EMG 1 Time Series (s)', ' EMG 1 (mV)'], 'sample': ' 2222.2222 Hz'}, {'pair': [' EMG 2 Time Series (s)', ' EMG 2 (mV)'], 'sample': ' 2222.2222 Hz'}, {'pair': [' EMG 3 Time Series (s)', ' EMG 3 (mV)'], 'sample': ' 2222.2222 Hz'}, {'pair': [' EMG 4 Time Series (s)', ' EMG 4 (mV)'], 'sample': ' 2222.2222 Hz'}, {'pair': [' EMG 1 Time Series (s)', ' EMG 1 (mV)'], 'sample': ' 2222.2222 Hz'}, {'pair': [' EMG 2 Time Series (s)', ' EMG 2 (mV)'], 'sample': ' 2222.2222 Hz'}, {'pair': [' EMG 3 Time Series (s)', ' EMG 3 (mV)'], 'sample': ' 2222.2222 Hz'}, {'pair': [' EMG 4 Time Series (s)', ' EMG 4 (mV)'], 'sample': ' 2222.2222 Hz'}, {'pair': [' EMG 1 Time Series (s)', ' EMG 1 (mV)'], 'sample': ' 2148.1481 Hz'}, {'pair': [' EMG 1 Time Series (s)', ' EMG 1 (mV)'], 'sample': ' 2148.1481 Hz'}, {'pair': [' EMG 1 Time Series (s)', ' EMG 1 (mV)'], 'sample': ' 2148.1481 Hz'}, {'pair': [' EMG 1 Time Series (s)', ' EMG 1 (mV)'], 'sample': ' 2148.1481 Hz'}]\n",
      " EMG 1 (mV)\n"
     ]
    },
    {
     "name": "stderr",
     "output_type": "stream",
     "text": [
      "/var/folders/tf/ny50dn9x7tz8mlg6fxcxw6s00000gn/T/ipykernel_80279/3175983752.py:1: DtypeWarning: Columns (0,1,2,3,4,5,6,7,8,9,10,11,12,13,14,15,16,17,18,19,20,21,22,23,24,25,26,27,28,29,30,31,32,33,34,35,36,37,38,39) have mixed types. Specify dtype option on import or set low_memory=False.\n",
      "  sensordf2 = pd.read_csv(trials[0][1], skiprows=5, header=None, keep_default_na=False)\n"
     ]
    },
    {
     "data": {
      "text/html": [
       "<div>\n",
       "<style scoped>\n",
       "    .dataframe tbody tr th:only-of-type {\n",
       "        vertical-align: middle;\n",
       "    }\n",
       "\n",
       "    .dataframe tbody tr th {\n",
       "        vertical-align: top;\n",
       "    }\n",
       "\n",
       "    .dataframe thead th {\n",
       "        text-align: right;\n",
       "    }\n",
       "</style>\n",
       "<table border=\"1\" class=\"dataframe\">\n",
       "  <thead>\n",
       "    <tr style=\"text-align: right;\">\n",
       "      <th></th>\n",
       "      <th>0</th>\n",
       "      <th>1</th>\n",
       "      <th>2</th>\n",
       "      <th>3</th>\n",
       "      <th>4</th>\n",
       "      <th>5</th>\n",
       "      <th>6</th>\n",
       "      <th>7</th>\n",
       "      <th>8</th>\n",
       "      <th>9</th>\n",
       "      <th>...</th>\n",
       "      <th>30</th>\n",
       "      <th>31</th>\n",
       "      <th>32</th>\n",
       "      <th>33</th>\n",
       "      <th>34</th>\n",
       "      <th>35</th>\n",
       "      <th>36</th>\n",
       "      <th>37</th>\n",
       "      <th>38</th>\n",
       "      <th>39</th>\n",
       "    </tr>\n",
       "  </thead>\n",
       "  <tbody>\n",
       "    <tr>\n",
       "      <th>0</th>\n",
       "      <td>EMG 1 Time Series (s)</td>\n",
       "      <td>EMG 1 (mV)</td>\n",
       "      <td>EMG 2 Time Series (s)</td>\n",
       "      <td>EMG 2 (mV)</td>\n",
       "      <td>EMG 3 Time Series (s)</td>\n",
       "      <td>EMG 3 (mV)</td>\n",
       "      <td>EMG 4 Time Series (s)</td>\n",
       "      <td>EMG 4 (mV)</td>\n",
       "      <td>EMG 1 Time Series (s)</td>\n",
       "      <td>EMG 1 (mV)</td>\n",
       "      <td>...</td>\n",
       "      <td>EMG 4 Time Series (s)</td>\n",
       "      <td>EMG 4 (mV)</td>\n",
       "      <td>EMG 1 Time Series (s)</td>\n",
       "      <td>EMG 1 (mV)</td>\n",
       "      <td>EMG 1 Time Series (s)</td>\n",
       "      <td>EMG 1 (mV)</td>\n",
       "      <td>EMG 1 Time Series (s)</td>\n",
       "      <td>EMG 1 (mV)</td>\n",
       "      <td>EMG 1 Time Series (s)</td>\n",
       "      <td>EMG 1 (mV)</td>\n",
       "    </tr>\n",
       "    <tr>\n",
       "      <th>1</th>\n",
       "      <td></td>\n",
       "      <td>2222.2222 Hz</td>\n",
       "      <td></td>\n",
       "      <td>2222.2222 Hz</td>\n",
       "      <td></td>\n",
       "      <td>2222.2222 Hz</td>\n",
       "      <td></td>\n",
       "      <td>2222.2222 Hz</td>\n",
       "      <td></td>\n",
       "      <td>2222.2222 Hz</td>\n",
       "      <td>...</td>\n",
       "      <td></td>\n",
       "      <td>2222.2222 Hz</td>\n",
       "      <td></td>\n",
       "      <td>2148.1481 Hz</td>\n",
       "      <td></td>\n",
       "      <td>2148.1481 Hz</td>\n",
       "      <td></td>\n",
       "      <td>2148.1481 Hz</td>\n",
       "      <td></td>\n",
       "      <td>2148.1481 Hz</td>\n",
       "    </tr>\n",
       "    <tr>\n",
       "      <th>2</th>\n",
       "      <td>0</td>\n",
       "      <td>-0.008896</td>\n",
       "      <td>0</td>\n",
       "      <td>-0.0028534</td>\n",
       "      <td>0</td>\n",
       "      <td>-0.0072175</td>\n",
       "      <td>0</td>\n",
       "      <td>-0.0115816</td>\n",
       "      <td>0</td>\n",
       "      <td>-0.0028534</td>\n",
       "      <td>...</td>\n",
       "      <td>0</td>\n",
       "      <td>0.0186313</td>\n",
       "      <td>0</td>\n",
       "      <td>-0.0533761</td>\n",
       "      <td>0</td>\n",
       "      <td>-0.0379339</td>\n",
       "      <td>0</td>\n",
       "      <td>0.0164492</td>\n",
       "      <td>0</td>\n",
       "      <td>-0.0325628</td>\n",
       "    </tr>\n",
       "    <tr>\n",
       "      <th>3</th>\n",
       "      <td>0.00045</td>\n",
       "      <td>-0.0082246</td>\n",
       "      <td>0.00045</td>\n",
       "      <td>-0.0015106</td>\n",
       "      <td>0.00045</td>\n",
       "      <td>-0.0070497</td>\n",
       "      <td>0.00045</td>\n",
       "      <td>-0.012253</td>\n",
       "      <td>0.00045</td>\n",
       "      <td>-0.0045319</td>\n",
       "      <td>...</td>\n",
       "      <td>0.00045</td>\n",
       "      <td>0.0186313</td>\n",
       "      <td>0.0004655</td>\n",
       "      <td>-0.0520333</td>\n",
       "      <td>0.0004655</td>\n",
       "      <td>-0.0369268</td>\n",
       "      <td>0.0004655</td>\n",
       "      <td>0.0191348</td>\n",
       "      <td>0.0004655</td>\n",
       "      <td>-0.0325628</td>\n",
       "    </tr>\n",
       "    <tr>\n",
       "      <th>4</th>\n",
       "      <td>0.0009</td>\n",
       "      <td>-0.0075532</td>\n",
       "      <td>0.0009</td>\n",
       "      <td>-0.0015106</td>\n",
       "      <td>0.0009</td>\n",
       "      <td>-0.0085603</td>\n",
       "      <td>0.0009</td>\n",
       "      <td>-0.0102388</td>\n",
       "      <td>0.0009</td>\n",
       "      <td>-0.0045319</td>\n",
       "      <td>...</td>\n",
       "      <td>0.0009</td>\n",
       "      <td>0.0206455</td>\n",
       "      <td>0.000931</td>\n",
       "      <td>-0.0540475</td>\n",
       "      <td>0.000931</td>\n",
       "      <td>-0.0372625</td>\n",
       "      <td>0.000931</td>\n",
       "      <td>0.0224918</td>\n",
       "      <td>0.000931</td>\n",
       "      <td>-0.0325628</td>\n",
       "    </tr>\n",
       "    <tr>\n",
       "      <th>...</th>\n",
       "      <td>...</td>\n",
       "      <td>...</td>\n",
       "      <td>...</td>\n",
       "      <td>...</td>\n",
       "      <td>...</td>\n",
       "      <td>...</td>\n",
       "      <td>...</td>\n",
       "      <td>...</td>\n",
       "      <td>...</td>\n",
       "      <td>...</td>\n",
       "      <td>...</td>\n",
       "      <td>...</td>\n",
       "      <td>...</td>\n",
       "      <td>...</td>\n",
       "      <td>...</td>\n",
       "      <td>...</td>\n",
       "      <td>...</td>\n",
       "      <td>...</td>\n",
       "      <td>...</td>\n",
       "      <td>...</td>\n",
       "      <td>...</td>\n",
       "    </tr>\n",
       "    <tr>\n",
       "      <th>142107</th>\n",
       "      <td>63.94725</td>\n",
       "      <td>-0.00621</td>\n",
       "      <td>63.94725</td>\n",
       "      <td>0.011582</td>\n",
       "      <td>63.94725</td>\n",
       "      <td>-0.001846</td>\n",
       "      <td>63.94725</td>\n",
       "      <td>-0.006882</td>\n",
       "      <td>63.94725</td>\n",
       "      <td>-0.019303</td>\n",
       "      <td>...</td>\n",
       "      <td>63.94725</td>\n",
       "      <td>0.02266</td>\n",
       "      <td></td>\n",
       "      <td></td>\n",
       "      <td></td>\n",
       "      <td></td>\n",
       "      <td></td>\n",
       "      <td></td>\n",
       "      <td></td>\n",
       "      <td></td>\n",
       "    </tr>\n",
       "    <tr>\n",
       "      <th>142108</th>\n",
       "      <td>63.9477</td>\n",
       "      <td>-0.006882</td>\n",
       "      <td>63.9477</td>\n",
       "      <td>0.010575</td>\n",
       "      <td>63.9477</td>\n",
       "      <td>-0.002853</td>\n",
       "      <td>63.9477</td>\n",
       "      <td>-0.007217</td>\n",
       "      <td>63.9477</td>\n",
       "      <td>-0.005203</td>\n",
       "      <td>...</td>\n",
       "      <td>63.9477</td>\n",
       "      <td>0.021988</td>\n",
       "      <td></td>\n",
       "      <td></td>\n",
       "      <td></td>\n",
       "      <td></td>\n",
       "      <td></td>\n",
       "      <td></td>\n",
       "      <td></td>\n",
       "      <td></td>\n",
       "    </tr>\n",
       "    <tr>\n",
       "      <th>142109</th>\n",
       "      <td>63.94815</td>\n",
       "      <td>-0.006546</td>\n",
       "      <td>63.94815</td>\n",
       "      <td>0.010239</td>\n",
       "      <td>63.94815</td>\n",
       "      <td>-0.002182</td>\n",
       "      <td>63.94815</td>\n",
       "      <td>-0.008225</td>\n",
       "      <td>63.94815</td>\n",
       "      <td>0.025345</td>\n",
       "      <td>...</td>\n",
       "      <td>63.94815</td>\n",
       "      <td>0.019974</td>\n",
       "      <td></td>\n",
       "      <td></td>\n",
       "      <td></td>\n",
       "      <td></td>\n",
       "      <td></td>\n",
       "      <td></td>\n",
       "      <td></td>\n",
       "      <td></td>\n",
       "    </tr>\n",
       "    <tr>\n",
       "      <th>142110</th>\n",
       "      <td>63.9486</td>\n",
       "      <td>-0.006882</td>\n",
       "      <td>63.9486</td>\n",
       "      <td>0.010575</td>\n",
       "      <td>63.9486</td>\n",
       "      <td>-0.000168</td>\n",
       "      <td>63.9486</td>\n",
       "      <td>-0.007889</td>\n",
       "      <td>63.9486</td>\n",
       "      <td>0.053544</td>\n",
       "      <td>...</td>\n",
       "      <td>63.9486</td>\n",
       "      <td>0.01796</td>\n",
       "      <td></td>\n",
       "      <td></td>\n",
       "      <td></td>\n",
       "      <td></td>\n",
       "      <td></td>\n",
       "      <td></td>\n",
       "      <td></td>\n",
       "      <td></td>\n",
       "    </tr>\n",
       "    <tr>\n",
       "      <th>142111</th>\n",
       "      <td>63.94905</td>\n",
       "      <td>-0.006882</td>\n",
       "      <td>63.94905</td>\n",
       "      <td>0.00856</td>\n",
       "      <td>63.94905</td>\n",
       "      <td>0.001846</td>\n",
       "      <td>63.94905</td>\n",
       "      <td>-0.00621</td>\n",
       "      <td>63.94905</td>\n",
       "      <td>0.065461</td>\n",
       "      <td>...</td>\n",
       "      <td>63.94905</td>\n",
       "      <td>0.018967</td>\n",
       "      <td></td>\n",
       "      <td></td>\n",
       "      <td></td>\n",
       "      <td></td>\n",
       "      <td></td>\n",
       "      <td></td>\n",
       "      <td></td>\n",
       "      <td></td>\n",
       "    </tr>\n",
       "  </tbody>\n",
       "</table>\n",
       "<p>142112 rows × 40 columns</p>\n",
       "</div>"
      ],
      "text/plain": [
       "                           0              1                       2   \\\n",
       "0       EMG 1 Time Series (s)     EMG 1 (mV)   EMG 2 Time Series (s)   \n",
       "1                               2222.2222 Hz                           \n",
       "2                           0      -0.008896                       0   \n",
       "3                     0.00045     -0.0082246                 0.00045   \n",
       "4                      0.0009     -0.0075532                  0.0009   \n",
       "...                       ...            ...                     ...   \n",
       "142107               63.94725       -0.00621                63.94725   \n",
       "142108                63.9477      -0.006882                 63.9477   \n",
       "142109               63.94815      -0.006546                63.94815   \n",
       "142110                63.9486      -0.006882                 63.9486   \n",
       "142111               63.94905      -0.006882                63.94905   \n",
       "\n",
       "                   3                       4              5   \\\n",
       "0          EMG 2 (mV)   EMG 3 Time Series (s)     EMG 3 (mV)   \n",
       "1        2222.2222 Hz                           2222.2222 Hz   \n",
       "2          -0.0028534                       0     -0.0072175   \n",
       "3          -0.0015106                 0.00045     -0.0070497   \n",
       "4          -0.0015106                  0.0009     -0.0085603   \n",
       "...               ...                     ...            ...   \n",
       "142107       0.011582                63.94725      -0.001846   \n",
       "142108       0.010575                 63.9477      -0.002853   \n",
       "142109       0.010239                63.94815      -0.002182   \n",
       "142110       0.010575                 63.9486      -0.000168   \n",
       "142111        0.00856                63.94905       0.001846   \n",
       "\n",
       "                            6              7                       8   \\\n",
       "0        EMG 4 Time Series (s)     EMG 4 (mV)   EMG 1 Time Series (s)   \n",
       "1                                2222.2222 Hz                           \n",
       "2                            0     -0.0115816                       0   \n",
       "3                      0.00045      -0.012253                 0.00045   \n",
       "4                       0.0009     -0.0102388                  0.0009   \n",
       "...                        ...            ...                     ...   \n",
       "142107                63.94725      -0.006882                63.94725   \n",
       "142108                 63.9477      -0.007217                 63.9477   \n",
       "142109                63.94815      -0.008225                63.94815   \n",
       "142110                 63.9486      -0.007889                 63.9486   \n",
       "142111                63.94905       -0.00621                63.94905   \n",
       "\n",
       "                   9   ...                      30             31  \\\n",
       "0          EMG 1 (mV)  ...   EMG 4 Time Series (s)     EMG 4 (mV)   \n",
       "1        2222.2222 Hz  ...                           2222.2222 Hz   \n",
       "2          -0.0028534  ...                       0      0.0186313   \n",
       "3          -0.0045319  ...                 0.00045      0.0186313   \n",
       "4          -0.0045319  ...                  0.0009      0.0206455   \n",
       "...               ...  ...                     ...            ...   \n",
       "142107      -0.019303  ...                63.94725        0.02266   \n",
       "142108      -0.005203  ...                 63.9477       0.021988   \n",
       "142109       0.025345  ...                63.94815       0.019974   \n",
       "142110       0.053544  ...                 63.9486        0.01796   \n",
       "142111       0.065461  ...                63.94905       0.018967   \n",
       "\n",
       "                            32             33                      34  \\\n",
       "0        EMG 1 Time Series (s)     EMG 1 (mV)   EMG 1 Time Series (s)   \n",
       "1                                2148.1481 Hz                           \n",
       "2                            0     -0.0533761                       0   \n",
       "3                    0.0004655     -0.0520333               0.0004655   \n",
       "4                     0.000931     -0.0540475                0.000931   \n",
       "...                        ...            ...                     ...   \n",
       "142107                                                                  \n",
       "142108                                                                  \n",
       "142109                                                                  \n",
       "142110                                                                  \n",
       "142111                                                                  \n",
       "\n",
       "                   35                      36             37  \\\n",
       "0          EMG 1 (mV)   EMG 1 Time Series (s)     EMG 1 (mV)   \n",
       "1        2148.1481 Hz                           2148.1481 Hz   \n",
       "2          -0.0379339                       0      0.0164492   \n",
       "3          -0.0369268               0.0004655      0.0191348   \n",
       "4          -0.0372625                0.000931      0.0224918   \n",
       "...               ...                     ...            ...   \n",
       "142107                                                         \n",
       "142108                                                         \n",
       "142109                                                         \n",
       "142110                                                         \n",
       "142111                                                         \n",
       "\n",
       "                            38             39  \n",
       "0        EMG 1 Time Series (s)     EMG 1 (mV)  \n",
       "1                                2148.1481 Hz  \n",
       "2                            0     -0.0325628  \n",
       "3                    0.0004655     -0.0325628  \n",
       "4                     0.000931     -0.0325628  \n",
       "...                        ...            ...  \n",
       "142107                                         \n",
       "142108                                         \n",
       "142109                                         \n",
       "142110                                         \n",
       "142111                                         \n",
       "\n",
       "[142112 rows x 40 columns]"
      ]
     },
     "execution_count": 205,
     "metadata": {},
     "output_type": "execute_result"
    }
   ],
   "source": [
    "for i in sensorinfo\n",
    "# sensordf2 = pd.read_csv(trials[0][1], skiprows=5, header=None, keep_default_na=False)\n",
    "# chans=sensordf2\n",
    "# chans"
   ]
  },
  {
   "cell_type": "code",
   "execution_count": null,
   "metadata": {},
   "outputs": [],
   "source": []
  }
 ],
 "metadata": {
  "kernelspec": {
   "display_name": ".venv",
   "language": "python",
   "name": "python3"
  },
  "language_info": {
   "codemirror_mode": {
    "name": "ipython",
    "version": 3
   },
   "file_extension": ".py",
   "mimetype": "text/x-python",
   "name": "python",
   "nbconvert_exporter": "python",
   "pygments_lexer": "ipython3",
   "version": "3.12.4"
  }
 },
 "nbformat": 4,
 "nbformat_minor": 2
}

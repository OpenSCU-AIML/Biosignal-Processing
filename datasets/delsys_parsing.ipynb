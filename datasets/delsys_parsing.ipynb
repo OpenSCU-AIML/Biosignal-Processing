{
 "cells": [
  {
   "cell_type": "code",
   "execution_count": 1,
   "metadata": {},
   "outputs": [
    {
     "name": "stdout",
     "output_type": "stream",
     "text": [
      "0 | henry_data\n",
      "1 | naruto\n"
     ]
    }
   ],
   "source": [
    "import os\n",
    "\n",
    "os.getcwd()\n",
    "os.listdir()\n",
    "dirs = [i for i in os.listdir() if i.find(\".\") == -1]\n",
    "ldirs = enumerate(dirs)\n",
    "print(\"\\n\".join([f\"{i[0]} | {i[1]}\" for i in ldirs]))"
   ]
  },
  {
   "cell_type": "code",
   "execution_count": 2,
   "metadata": {},
   "outputs": [
    {
     "name": "stdout",
     "output_type": "stream",
     "text": [
      "Selected 12 Trials in naruto\n"
     ]
    }
   ],
   "source": [
    "setIndex = int(input(\"Enter index of dataset\"))\n",
    "fpath = os.getcwd() + \"/\" + dirs[setIndex]\n",
    "trials = [(i, f\"{fpath}/{i}\") for i in os.listdir(fpath) if i.find(\".csv\")]\n",
    "print(f\"Selected {len(trials)} Trials in {dirs[setIndex]}\")"
   ]
  },
  {
   "cell_type": "code",
   "execution_count": 4,
   "metadata": {},
   "outputs": [
    {
     "name": "stdout",
     "output_type": "stream",
     "text": [
      "                          0                      1  \\\n",
      "0              Application:             Date/Time:   \n",
      "1   Trigno Discover (1.7.0)   7/20/2024 4:33:55 PM   \n",
      "\n",
      "                              2          3                 4  \\\n",
      "0  Collection Length (seconds):  1 (77028)  sensor mode: 296   \n",
      "1                       63.9495                                \n",
      "\n",
      "                       5              6  \n",
      "0  EMG 1 Time Series (s)           <NA>  \n",
      "1             EMG 1 (mV)   2222.2222 Hz  \n"
     ]
    }
   ],
   "source": [
    "import pandas as pd\n",
    "import pprint\n",
    "df = pd.read_csv(trials[0][1], usecols=[0,1], header=None)\n",
    "data = df.loc[0:6,0:4].T.astype(\"string\")\n",
    "## hardcode this later 3 line\n",
    "print(data)\n",
    "    "
   ]
  },
  {
   "cell_type": "code",
   "execution_count": null,
   "metadata": {},
   "outputs": [],
   "source": []
  }
 ],
 "metadata": {
  "kernelspec": {
   "display_name": ".venv",
   "language": "python",
   "name": "python3"
  },
  "language_info": {
   "codemirror_mode": {
    "name": "ipython",
    "version": 3
   },
   "file_extension": ".py",
   "mimetype": "text/x-python",
   "name": "python",
   "nbconvert_exporter": "python",
   "pygments_lexer": "ipython3",
   "version": "3.12.4"
  }
 },
 "nbformat": 4,
 "nbformat_minor": 2
}

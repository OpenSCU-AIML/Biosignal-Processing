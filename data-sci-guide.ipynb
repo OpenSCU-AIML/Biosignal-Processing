{
 "cells": [
  {
   "cell_type": "markdown",
   "metadata": {},
   "source": [
    "## Introduction"
   ]
  },
  {
   "cell_type": "markdown",
   "metadata": {},
   "source": [
    "In this phase, our team needs to learn how to preprocess various types of Time Series data using a mix of digital signal processing (DSP) and data science techniques.\n",
    "\n",
    "### Time Series Data Types\n",
    "- EMG Data\n",
    "- EOG Data\n",
    "- EEG Data\n",
    "\n",
    "### Task\n",
    "Follow this guide to learn basic data analysis"
   ]
  },
  {
   "cell_type": "markdown",
   "metadata": {},
   "source": [
    "### Completion Criteria\n",
    "Demonstrates the ability to manipulate any dataset and preprocess it for training ML models\n",
    "- Able to parse and manipulate data files\n",
    "- Able to preprocess and create visuals from raw data\n",
    "- Able to visualize features and trends from preprocessed data"
   ]
  },
  {
   "cell_type": "markdown",
   "metadata": {},
   "source": [
    "## Methods\n",
    "The 4 steps of data processing with tools for analyzing data\n",
    "\n",
    "Load, Visualize, Filter, Normalize"
   ]
  },
  {
   "cell_type": "markdown",
   "metadata": {},
   "source": [
    "### 1. Load and Parse Data\n",
    "Datasets are commonly loaded from CSV or SQL or txt files.\n",
    "Use tools like Pandas, Numpy, sqlalchemy, or MNE for easily manipulating structured datasets"
   ]
  },
  {
   "cell_type": "markdown",
   "metadata": {},
   "source": [
    "#### Pandas\n",
    "**Best Use Case:** Loading, manipulating, and analyzing tabular data from CSV, Excel, and other formats.  \n",
    "**Data Type:** EMG, EOG, EEG  \n",
    "[Documentation](https://pandas.pydata.org/pandas-docs/stable/)\n",
    "\n",
    "#### NumPy\n",
    "**Best Use Case:** Handling large datasets and performing complex mathematical operations.  \n",
    "**Data Type:** EMG, EOG, EEG  \n",
    "[Documentation](https://numpy.org/doc/)\n",
    "\n",
    "#### MNE\n",
    "**Best Use Case:** Processing EEG, MEG, and other electrophysiological data.  \n",
    "**Data Type:** EEG  \n",
    "[Documentation](https://mne.tools/stable/index.html)"
   ]
  },
  {
   "cell_type": "markdown",
   "metadata": {},
   "source": [
    "### 2. Visualize\n",
    "The following libraries can be used to turn *Pandas Dataframes* or *Numpy Arrays* into graphs and charts from your datasets."
   ]
  },
  {
   "cell_type": "markdown",
   "metadata": {},
   "source": [
    "#### Matplotlib\n",
    "**Best Use Case:** Creating static, animated, and interactive visualizations.  \n",
    "**Data Type:** EMG, EOG, EEG  \n",
    "[Documentation](https://matplotlib.org/stable/contents.html)\n",
    "\n",
    "#### Seaborn\n",
    "**Best Use Case:** Drawing attractive and informative statistical graphics.  \n",
    "**Data Type:** EMG, EOG, EEG  \n",
    "[Documentation](https://seaborn.pydata.org/)\n",
    "\n",
    "#### Plotly\n",
    "**Best Use Case:** Creating interactive plots and dashboards.  \n",
    "**Data Type:** EMG, EOG, EEG  \n",
    "[Documentation](https://plotly.com/python/)"
   ]
  },
  {
   "cell_type": "markdown",
   "metadata": {},
   "source": [
    "### 3. Filters\n",
    "The following tools are specialized libraries for preprocessing datasets of Time Series Data"
   ]
  },
  {
   "cell_type": "markdown",
   "metadata": {},
   "source": [
    "#### SciPy\n",
    "**Best Use Case:** Applying various filtering techniques for signal processing tasks.  \n",
    "**Data Type:** EMG, EOG, EEG  \n",
    "[Documentation](https://docs.scipy.org/doc/scipy/)\n",
    "\n",
    "#### PyWavelets\n",
    "**Best Use Case:** Noise reduction, signal compression, and feature extraction using wavelet transforms.  \n",
    "**Data Type:** EMG, EOG, EEG  \n",
    "[Documentation](https://pywavelets.readthedocs.io/en/latest/)\n",
    "\n",
    "#### NeuroDSP\n",
    "**Best Use Case:** Digital signal processing of neural time series, including EEG, ECoG, and LFP data.  \n",
    "**Data Type:** EEG  \n",
    "[Documentation](https://neurodsp-tools.github.io/neurodsp/)"
   ]
  },
  {
   "cell_type": "markdown",
   "metadata": {},
   "source": [
    "### 4. Normalizers\n",
    "The following libraries have tools and data science algorithms for extracting trends and features from preprocessed data"
   ]
  },
  {
   "cell_type": "markdown",
   "metadata": {},
   "source": [
    "#### scikit-learn\n",
    "**Best Use Case:** Normalizing data for machine learning models.  \n",
    "**Data Type:** EMG, EOG, EEG  \n",
    "[Documentation](https://scikit-learn.org/stable/documentation.html)\n",
    "\n",
    "#### tsfresh\n",
    "**Best Use Case:** Extracting and normalizing features from time-series data.  \n",
    "**Data Type:** EMG, EOG, EEG  \n",
    "[Documentation](https://tsfresh.readthedocs.io/en/latest/)\n",
    "\n",
    "#### PyCaret\n",
    "**Best Use Case:** Automating machine learning workflows, including data preprocessing and normalization.  \n",
    "**Data Type:** EMG, EOG, EEG  \n",
    "[Documentation](https://pycaret.org/)"
   ]
  },
  {
   "cell_type": "markdown",
   "metadata": {},
   "source": [
    "### Installation\n",
    "To install all necessary packages, run the following command:"
   ]
  },
  {
   "cell_type": "code",
   "execution_count": null,
   "metadata": {},
   "outputs": [],
   "source": [
    "pip install pandas numpy mne matplotlib seaborn plotly scipy PyWavelets neurodsp scikit-learn tsfresh pycaret"
   ]
  },
  {
   "cell_type": "markdown",
   "metadata": {},
   "source": [
    "## Examples"
   ]
  },
  {
   "cell_type": "markdown",
   "metadata": {},
   "source": [
    "### Example 1: EMG Data Preprocessing"
   ]
  },
  {
   "cell_type": "code",
   "execution_count": null,
   "metadata": {},
   "outputs": [],
   "source": [
    "# Import necessary libraries\n",
    "import pandas as pd\n",
    "import numpy as np\n",
    "import matplotlib.pyplot as plt\n",
    "from scipy.signal import butter, filtfilt\n",
    "from sklearn.preprocessing import StandardScaler\n",
    "\n",
    "# Load and Parse Data\n",
    "emg_data = pd.read_csv('emg_data.csv')\n",
    "print(emg_data.head())\n",
    "\n",
    "# Visualize\n",
    "plt.figure(figsize=(10, 4))\n",
    "plt.plot(emg_data['Time'], emg_data['EMG Signal'])\n",
    "plt.title('Raw EMG Signal')\n",
    "plt.xlabel('Time')\n",
    "plt.ylabel('Amplitude')\n",
    "plt.show()\n",
    "\n",
    "# Filters - Apply a Butterworth filter\n",
    "def butter_lowpass_filter(data, cutoff, fs, order=5):\n",
    "    nyquist = 0.5 * fs\n",
    "    normal_cutoff = cutoff / nyquist\n",
    "    b, a = butter(order, normal_cutoff, btype='low', analog=False)\n",
    "    y = filtfilt(b, a, data)\n",
    "    return y\n",
    "\n",
    "fs = 1000  # Sample rate\n",
    "cutoff = 50  # Desired cutoff frequency of the filter, Hz\n",
    "emg_data['Filtered Signal'] = butter_lowpass_filter(emg_data['EMG Signal'], cutoff, fs)\n",
    "\n",
    "plt.figure(figsize=(10, 4))\n",
    "plt.plot(emg_data['Time'], emg_data['Filtered Signal'])\n",
    "plt.title('Filtered EMG Signal')\n",
    "plt.xlabel('Time')\n",
    "plt.ylabel('Amplitude')\n",
    "plt.show()\n",
    "\n",
    "# Normalizers\n",
    "scaler = StandardScaler()\n",
    "emg_data['Normalized Signal'] = scaler.fit_transform(emg_data[['Filtered Signal']])\n",
    "\n",
    "plt.figure(figsize=(10, 4))\n",
    "plt.plot(emg_data['Time'], emg_data['Normalized Signal'])\n",
    "plt.title('Normalized EMG Signal')\n",
    "plt.xlabel('Time')\n",
    "plt.ylabel('Amplitude')\n",
    "plt.show()"
   ]
  },
  {
   "cell_type": "markdown",
   "metadata": {},
   "source": [
    "### Example 2: EOG Data Preprocessing"
   ]
  },
  {
   "cell_type": "code",
   "execution_count": null,
   "metadata": {},
   "outputs": [],
   "source": [
    "# Import necessary libraries\n",
    "import pandas as pd\n",
    "import numpy as np\n",
    "import matplotlib.pyplot as plt\n",
    "from scipy.signal import butter, filtfilt\n",
    "from sklearn.preprocessing import MinMaxScaler\n",
    "\n",
    "# Load and Parse Data\n",
    "eog_data = pd.read_csv('eog_data.csv')\n",
    "print(eog_data.head())\n",
    "\n",
    "# Visualize\n",
    "plt.figure(figsize=(10, 4))\n",
    "plt.plot(eog_data['Time'], eog_data['EOG Signal'])\n",
    "plt.title('Raw EOG Signal')\n",
    "plt.xlabel('Time')\n",
    "plt.ylabel('Amplitude')\n",
    "plt.show()\n",
    "\n",
    "# Filters - Apply a Butterworth filter\n",
    "def butter_bandpass_filter(data, lowcut, highcut, fs, order=5):\n",
    "    nyquist = 0.5 * fs\n",
    "    low = lowcut / nyquist\n",
    "    high = highcut / nyquist\n",
    "    b, a = butter(order, [low, high], btype='band')\n",
    "    y = filtfilt(b, a, data)\n",
    "    return y\n",
    "\n",
    "fs = 1000  # Sample rate\n",
    "lowcut = 0.5  # Lower bound of the filter\n",
    "highcut = 30  # Upper bound of the filter\n",
    "eog_data['Filtered Signal'] = butter_bandpass_filter(eog_data['EOG Signal'], lowcut, highcut, fs)\n",
    "\n",
    "plt.figure(figsize=(10, 4))\n",
    "plt.plot(eog_data['Time'], eog_data['Filtered Signal'])\n",
    "plt.title('Filtered EOG Signal')\n",
    "plt.xlabel('Time')\n",
    "plt.ylabel('Amplitude')\n",
    "plt.show()\n",
    "\n",
    "# Normalizers\n",
    "scaler = MinMaxScaler()\n",
    "eog_data['Normalized Signal'] = scaler.fit_transform(eog_data[['Filtered Signal']])\n",
    "\n",
    "plt.figure(figsize=(10, 4))\n",
    "plt.plot(eog_data['Time'], eog_data['Normalized Signal'])\n",
    "plt.title('Normalized EOG Signal')\n",
    "plt.xlabel('Time')\n",
    "plt.ylabel('Amplitude')\n",
    "plt.show()\n"
   ]
  },
  {
   "cell_type": "markdown",
   "metadata": {},
   "source": [
    "### Example 3: EEG Data Preprocessing"
   ]
  },
  {
   "cell_type": "code",
   "execution_count": null,
   "metadata": {},
   "outputs": [],
   "source": [
    "# Import necessary libraries\n",
    "import mne\n",
    "import matplotlib.pyplot as plt\n",
    "from scipy.signal import butter, filtfilt\n",
    "from sklearn.preprocessing import RobustScaler\n",
    "\n",
    "# Load and Parse Data\n",
    "eeg_data = mne.io.read_raw_fif('eeg_data.fif', preload=True)\n",
    "eeg_data.pick_types(eeg=True)\n",
    "\n",
    "# Visualize\n",
    "eeg_data.plot(duration=5, n_channels=10, title='Raw EEG Signal')\n",
    "\n",
    "# Filters - Apply a Butterworth filter\n",
    "def butter_highpass_filter(data, cutoff, fs, order=5):\n",
    "    nyquist = 0.5 * fs\n",
    "    normal_cutoff = cutoff / nyquist\n",
    "    b, a = butter(order, normal_cutoff, btype='high', analog=False)\n",
    "    y = filtfilt(b, a, data)\n",
    "    return y\n",
    "\n",
    "fs = int(eeg_data.info['sfreq'])  # Sample rate\n",
    "cutoff = 1  # Desired cutoff frequency of the filter, Hz\n",
    "eeg_data_filtered = eeg_data.copy().filter(l_freq=cutoff, h_freq=None)\n",
    "\n",
    "eeg_data_filtered.plot(duration=5, n_channels=10, title='Filtered EEG Signal')\n",
    "\n",
    "# Normalizers\n",
    "scaler = RobustScaler()\n",
    "data = eeg_data_filtered.get_data()\n",
    "data_normalized = scaler.fit_transform(data.T).T\n",
    "\n",
    "# Create a new RawArray with the normalized data\n",
    "eeg_data_normalized = mne.io.RawArray(data_normalized, eeg_data_filtered.info)\n",
    "\n",
    "eeg_data_normalized.plot(duration=5, n_channels=10, title='Normalized EEG Signal')"
   ]
  },
  {
   "cell_type": "markdown",
   "metadata": {},
   "source": [
    "## Going forwards\n",
    "**Play with different datasets** with the goal of creating visuals with explainable data trends\n",
    "\n",
    "\n",
    "\n",
    "**Get EXP:** explore different combinations of tools and algorithms for Preprocess, Filter, and Normalize\n",
    "\n",
    "**Tips for farming EXP:**\n",
    "- **be lazy:** look up things *when you cant figure something out*, someone's already done it and youll feel more stupid when you find it the longer you wait\n",
    "- **be curious:** ask yourself *what kind of info can be extracted* through data analysis. think about how each dataset was recorded the trial.\n",
    "- **try to break things:** tinker with familiar algorithms or ask GPT how to extract different properties from raw data\n",
    "- **reuse code:** Start building a list of tools and collect the snippets and URLs to every guide that you follow\n",
    "\n",
    "```SQL\n",
    "EX: \n",
    "COLLECTING \"fire ball jutsu\"\n",
    "LOADING \"good job delsys :/\"\n",
    "PREPROCESS \"I used Z filter to remove the noise\"\n",
    "VISUAL \"you can see at X time on trial Y, the patient got fatigued\"\n",
    "NORMALIZE \"The patient used more force on 3/10 trials\"\n",
    "\n",
    "```"
   ]
  },
  {
   "cell_type": "markdown",
   "metadata": {},
   "source": []
  }
 ],
 "metadata": {
  "language_info": {
   "name": "python"
  }
 },
 "nbformat": 4,
 "nbformat_minor": 2
}
